{
  "cells": [
    {
      "cell_type": "markdown",
      "metadata": {
        "id": "rOppo2exTc7n"
      },
      "source": [
        "<center><h1><b>Exercise 01: Neural Network For Image Recognition</b></h1></center>"
      ]
    },
    {
      "cell_type": "markdown",
      "metadata": {
        "id": "46iEDSEUTsxv"
      },
      "source": [
        "- Full name: Võ Nguyễn Hoàng Kim\n",
        "- Student ID: 21127090"
      ]
    },
    {
      "cell_type": "code",
      "execution_count": null,
      "metadata": {
        "id": "5UeZto0yZrCL"
      },
      "outputs": [],
      "source": [
        "# import libraries\n",
        "import numpy as np\n",
        "from sklearn.datasets import fetch_openml\n",
        "from sklearn.neural_network import MLPClassifier\n",
        "from sklearn.model_selection import train_test_split\n",
        "from sklearn.metrics import accuracy_score\n",
        "import time"
      ]
    },
    {
      "cell_type": "markdown",
      "metadata": {},
      "source": [
        "<h1><b>Load dataset</b></h1>"
      ]
    },
    {
      "cell_type": "code",
      "execution_count": null,
      "metadata": {
        "id": "CP8Cef1kZzC-"
      },
      "outputs": [],
      "source": [
        "# Load & preprocess dataset\n",
        "\n",
        "# MNIST dataset\n",
        "mnist = fetch_openml('mnist_784', version = 1, cache = True, parser = \"auto\")\n",
        "X_mnist = mnist.data.astype('float32') / 255.0\n",
        "y_mnist = mnist.target.astype('int')\n",
        "\n",
        "# Split the data into training and testing sets\n",
        "X_mnist_train, X_mnist_test, y_mnist_train, y_mnist_test = train_test_split(X_mnist, y_mnist, test_size=0.2, random_state=42)\n",
        "\n",
        "\n",
        "# Fashion-MNIST dataset\n",
        "fashion_mnist = fetch_openml('Fashion-MNIST', version = 1, cache = True, parser = \"auto\")\n",
        "X_fashion_mnist = fashion_mnist.data.astype('float32') / 255.0\n",
        "y_fashion_mnist = fashion_mnist.target.astype('int')\n",
        "\n",
        "# Split the data into training and testing sets\n",
        "X_fashion_mnist_train, X_fashion_mnist_test, y_fashion_mnist_train, y_fashion_mnist_test = train_test_split(X_fashion_mnist, y_fashion_mnist, test_size=0.2, random_state=42)\n",
        "\n"
      ]
    },
    {
      "cell_type": "markdown",
      "metadata": {},
      "source": [
        "<h1><b>Build model MLP</b></h1>"
      ]
    },
    {
      "cell_type": "code",
      "execution_count": null,
      "metadata": {
        "id": "cdFUwQHefwAB"
      },
      "outputs": [],
      "source": [
        "# Build the neural network with 1 hidden layer\n",
        "hiddenLayerSize =300;\n",
        "model_1 = MLPClassifier(hidden_layer_sizes=(hiddenLayerSize,),\n",
        "                    max_iter = 500,\n",
        "                    alpha = 1e-4,\n",
        "                    solver = 'sgd',\n",
        "                    verbose = 10,\n",
        "                    random_state = 1,\n",
        "                    learning_rate_init = 0.01)\n",
        "\n",
        "# Build the neural network with 2 hidden layer\n",
        "model_2 = MLPClassifier(hidden_layer_sizes=(hiddenLayerSize, hiddenLayerSize),\n",
        "                    max_iter = 500,\n",
        "                    alpha = 1e-4,\n",
        "                    solver = 'sgd',\n",
        "                    verbose = 10,\n",
        "                    random_state = 1,\n",
        "                    learning_rate_init = 0.01)"
      ]
    },
    {
      "cell_type": "markdown",
      "metadata": {},
      "source": [
        "<h1><b>Train and Predict on MNIST</b></h1>"
      ]
    },
    {
      "cell_type": "code",
      "execution_count": null,
      "metadata": {
        "colab": {
          "base_uri": "https://localhost:8080/"
        },
        "id": "Rm2s-nfgau7z",
        "outputId": "1332c37c-df3a-41f4-fafb-0511646fd91d"
      },
      "outputs": [],
      "source": [
        "# Train model\n",
        "# with MNIST dataset\n",
        "start_time = time.time()\n",
        "\n",
        "model_1.fit(X_mnist_train, y_mnist_train)\n",
        "\n",
        "end_time = time.time()\n",
        "\n",
        "# compute the training time\n",
        "mnist_time = end_time - start_time\n",
        "\n",
        "# Evaluate the model\n",
        "y_mnist_pred = model_1.predict(X_mnist_test )\n",
        "accuracy_mnist = accuracy_score(y_mnist_test, y_mnist_pred)\n",
        "\n",
        "\n",
        "print(\"With a hidden layer ({}): \".format(hiddenLayerSize))\n",
        "print(\"- Training time for MNIST Digit: \",  mnist_time)\n",
        "print(\" -- Accuracy:\", accuracy_mnist)\n",
        "print(\" -- Training set score: %f\" % model_1.score(X_mnist_train, y_mnist_train))\n",
        "print(\" -- Test set score: %f\" % model_1.score(X_mnist_test, y_mnist_test))\n"
      ]
    },
    {
      "cell_type": "markdown",
      "metadata": {},
      "source": [
        "<h1><b>Train and Predict on MNIST FASHION</b></h1>"
      ]
    },
    {
      "cell_type": "code",
      "execution_count": null,
      "metadata": {
        "colab": {
          "base_uri": "https://localhost:8080/"
        },
        "id": "XjKaz2p6WwFG",
        "outputId": "498f67ba-0f88-42a8-bba0-31135697f33b"
      },
      "outputs": [],
      "source": [
        "\n",
        "# Train model with Fashion-MNIST dataset\n",
        "start_time = time.time()\n",
        "model_1.fit(X_fashion_mnist_train, y_fashion_mnist_train)\n",
        "end_time = time.time()\n",
        "\n",
        "# compute the training time\n",
        "fashion_mnist_time = end_time - start_time\n",
        "\n",
        "# evaluate model\n",
        "y_fashion_mnist_pred = model_1.predict(X_fashion_mnist_test)\n",
        "accuracy_fashion_mnist = accuracy_score(y_fashion_mnist_test, y_fashion_mnist_pred)\n",
        "\n",
        "print(\"- Training time for MNIST Fashion : \", fashion_mnist_time)\n",
        "print(\" -- Accuracy:\", accuracy_fashion_mnist)\n",
        "print(\" -- Training set score: %f\" % model_1.score(X_fashion_mnist_train, y_fashion_mnist_train))\n",
        "print(\" -- Test set score: %f\" % model_1.score(X_fashion_mnist_test, y_fashion_mnist_test))"
      ]
    }
  ],
  "metadata": {
    "colab": {
      "provenance": [],
      "toc_visible": true
    },
    "kernelspec": {
      "display_name": "Python 3",
      "name": "python3"
    },
    "language_info": {
      "name": "python"
    }
  },
  "nbformat": 4,
  "nbformat_minor": 0
}
